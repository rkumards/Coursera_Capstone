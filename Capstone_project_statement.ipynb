{
 "cells": [
  {
   "cell_type": "markdown",
   "metadata": {},
   "source": [
    "# Capstone Project - The Battle of Neighborhoods "
   ]
  },
  {
   "cell_type": "markdown",
   "metadata": {},
   "source": [
    "## Introduction/Business Problem"
   ]
  },
  {
   "cell_type": "markdown",
   "metadata": {},
   "source": [
    "In this project we are trying to solve the Business problem for owner who wish to open new branch in foreign country and he has no much idea which city he should prefer then other whenever contactor is offering him two or more choice. We took one case study as given below"
   ]
  },
  {
   "cell_type": "markdown",
   "metadata": {},
   "source": [
    "Mr. Rohan is running successfully XYZ Cuisine in Asian counties, now he wants to open branch of its Indian cuisine   in North America continent, but at present he may able to open only one branch. He has two option to open branch either in Toronto or New York. The problem is, “which city should he select for running successful business”"
   ]
  },
  {
   "cell_type": "markdown",
   "metadata": {},
   "source": [
    "There are few criteria he might he will prefer the location:-\n",
    "1.\tWhat is the total population and per capita income in these cities?\n",
    "2.\tNo of population whose origin from Indian subcontinent in these cities\n",
    "3.\tHow many Indian restaurants  are present in that area?\n",
    "4.\tNo of tips for any venue shows Indian cuisine demand in that area. "
   ]
  },
  {
   "cell_type": "markdown",
   "metadata": {},
   "source": [
    "## Model / Approach"
   ]
  },
  {
   "cell_type": "markdown",
   "metadata": {},
   "source": [
    "To solve this, dataset is required, demographic data of Toronto and New York. Based on demographic data we can identify the migrants community from Indian subcontinent in both the city. Based on this we can identify the city which suitable for client.\n",
    "Foursquare data is required to find of venues and famous hotel/place in the city and the place where restaurants can be opened.\n",
    "Example : we want to search a place in Toronto we can use following query\n",
    "https://api.foursquare.com/v2/venues/search?client_id=******&client_secrate=****&ll=40.73,-70.01&query=indianrestaurant\n",
    "\n",
    "Then we need to find number of Indian restaurants near famous venue. \n",
    "https://api.foursquare.com/v2/venues/trending?client_id=******&client_secrate=****&v=201705&ll=40.73, -74.01\n",
    "https:// api.foursquare.com/v2/venues/search?client_id=******&client_secrate=****&ll=40.73,-70.01&query=indianrestaurant\n",
    "What is the rating given to these restaurants based tips recived by the restaurants. This will give us the idea whether it is suitable to open Indian restaurants.\n",
    "https://api.foursqaure.com/v2/venues/uniqueID/tips?client_id=***&client_secret=***&v=201705\n"
   ]
  },
  {
   "cell_type": "code",
   "execution_count": null,
   "metadata": {},
   "outputs": [],
   "source": []
  }
 ],
 "metadata": {
  "kernelspec": {
   "display_name": "Python 3",
   "language": "python",
   "name": "python3"
  },
  "language_info": {
   "codemirror_mode": {
    "name": "ipython",
    "version": 3
   },
   "file_extension": ".py",
   "mimetype": "text/x-python",
   "name": "python",
   "nbconvert_exporter": "python",
   "pygments_lexer": "ipython3",
   "version": "3.5.2"
  }
 },
 "nbformat": 4,
 "nbformat_minor": 4
}
